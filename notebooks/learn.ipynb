{
 "cells": [
  {
   "cell_type": "code",
   "execution_count": 12,
   "metadata": {
    "vscode": {
     "languageId": "rust"
    }
   },
   "outputs": [
    {
     "name": "stdout",
     "output_type": "stream",
     "text": [
      "10\n",
      "20\n"
     ]
    }
   ],
   "source": [
    "let mut a: u32 = 10;\n",
    "println!(\"{a}\");\n",
    "a = 20;\n",
    "println!(\"{a}\");"
   ]
  },
  {
   "cell_type": "markdown",
   "metadata": {},
   "source": [
    "# Pattern Matching"
   ]
  },
  {
   "cell_type": "markdown",
   "metadata": {},
   "source": [
    "## Let Control Flow"
   ]
  },
  {
   "cell_type": "markdown",
   "metadata": {},
   "source": [
    "### if-let"
   ]
  },
  {
   "cell_type": "code",
   "execution_count": 3,
   "metadata": {
    "vscode": {
     "languageId": "rust"
    }
   },
   "outputs": [],
   "source": [
    "fn sleep_for(secs: f32) {\n",
    "    let dur = if let Ok(dur_) = std::time::Duration::try_from_secs_f32(secs) {\n",
    "        dur_\n",
    "    } else {\n",
    "        std::time::Duration::from_millis(500)\n",
    "    };\n",
    "    std::thread::sleep(dur);\n",
    "    println!(\"slept for {:?}\", dur);\n",
    "}"
   ]
  },
  {
   "cell_type": "code",
   "execution_count": 4,
   "metadata": {
    "vscode": {
     "languageId": "rust"
    }
   },
   "outputs": [
    {
     "name": "stdout",
     "output_type": "stream",
     "text": [
      "slept for 500ms\n",
      "slept for 800.000012ms\n",
      "slept for 500ms\n"
     ]
    }
   ],
   "source": [
    "sleep_for(-10.0);\n",
    "sleep_for(0.8);\n",
    "sleep_for(0.5);"
   ]
  },
  {
   "cell_type": "markdown",
   "metadata": {},
   "source": [
    "### let-else"
   ]
  },
  {
   "cell_type": "code",
   "execution_count": 5,
   "metadata": {
    "vscode": {
     "languageId": "rust"
    }
   },
   "outputs": [],
   "source": [
    "#[derive(Debug)]\n",
    "enum Result {\n",
    "    Ok(u32),\n",
    "    Err(String),\n",
    "}\n",
    "\n",
    "fn hex_or_die_trying(maybe_string: Option<String>) -> Result {\n",
    "    let s = if let Some(s) = maybe_string {\n",
    "        s\n",
    "    } else {\n",
    "        return Result::Err(String::from(\"got None\"));\n",
    "    };\n",
    "\n",
    "    let first_byte_char = if let Some(first_byte_char) = s.chars().next() {\n",
    "        first_byte_char\n",
    "    } else {\n",
    "        return Result::Err(String::from(\"got empty string\"));\n",
    "    };\n",
    "\n",
    "    if let Some(digit) = first_byte_char.to_digit(16) {\n",
    "        Result::Ok(digit)\n",
    "    } else {\n",
    "        Result::Err(String::from(\"not a hex digit\"))\n",
    "    }\n",
    "}"
   ]
  },
  {
   "cell_type": "code",
   "execution_count": 6,
   "metadata": {
    "vscode": {
     "languageId": "rust"
    }
   },
   "outputs": [
    {
     "name": "stdout",
     "output_type": "stream",
     "text": [
      "result: Ok(15)\n",
      "result: Ok(10)\n",
      "result: Err(\"got empty string\")\n",
      "result: Err(\"got None\")\n"
     ]
    }
   ],
   "source": [
    "println!(\"result: {:?}\", hex_or_die_trying(Some(String::from(\"foo\"))));\n",
    "println!(\"result: {:?}\", hex_or_die_trying(Some(String::from(\"Aoo\"))));\n",
    "println!(\"result: {:?}\", hex_or_die_trying(Some(String::from(\"\"))));\n",
    "println!(\"result: {:?}\", hex_or_die_trying(None));"
   ]
  },
  {
   "cell_type": "markdown",
   "metadata": {},
   "source": [
    "#### neat version"
   ]
  },
  {
   "cell_type": "code",
   "execution_count": 7,
   "metadata": {
    "vscode": {
     "languageId": "rust"
    }
   },
   "outputs": [],
   "source": [
    "fn hex_or_die_trying_flatten(maybe_string: Option<String>) -> Result {\n",
    "    let Some(s) = maybe_string else {\n",
    "        return Result::Err(String::from(\"got None\"));\n",
    "    };\n",
    "\n",
    "    let Some(first_byte_char) = s.chars().next() else {\n",
    "        return Result::Err(String::from(\"got empty string\"));\n",
    "    };\n",
    "\n",
    "    let Some(digit) = first_byte_char.to_digit(16) else {\n",
    "        return Result::Err(String::from(\"not a hex digit\"));\n",
    "    };\n",
    "\n",
    "    Result::Ok(digit)\n",
    "}"
   ]
  },
  {
   "cell_type": "code",
   "execution_count": 8,
   "metadata": {
    "vscode": {
     "languageId": "rust"
    }
   },
   "outputs": [
    {
     "name": "stdout",
     "output_type": "stream",
     "text": [
      "result: Ok(15)\n",
      "result: Ok(10)\n",
      "result: Err(\"got empty string\")\n",
      "result: Err(\"got None\")\n"
     ]
    }
   ],
   "source": [
    "println!(\"result: {:?}\", hex_or_die_trying(Some(String::from(\"foo\"))));\n",
    "println!(\"result: {:?}\", hex_or_die_trying(Some(String::from(\"Aoo\"))));\n",
    "println!(\"result: {:?}\", hex_or_die_trying(Some(String::from(\"\"))));\n",
    "println!(\"result: {:?}\", hex_or_die_trying(None));"
   ]
  },
  {
   "cell_type": "markdown",
   "metadata": {},
   "source": [
    "### while-let"
   ]
  },
  {
   "cell_type": "code",
   "execution_count": 9,
   "metadata": {
    "vscode": {
     "languageId": "rust"
    }
   },
   "outputs": [
    {
     "name": "stdout",
     "output_type": "stream",
     "text": [
      "character: 🦀\n",
      "character:  \n",
      "character: t\n",
      "character: s\n",
      "character: u\n",
      "character: R\n",
      "character:  \n",
      "character: e\n",
      "character: v\n",
      "character: i\n",
      "character: s\n",
      "character: n\n",
      "character: e\n",
      "character: h\n",
      "character: e\n",
      "character: r\n",
      "character: p\n",
      "character: m\n",
      "character: o\n",
      "character: C\n"
     ]
    },
    {
     "data": {
      "text/plain": [
       "()"
      ]
     },
     "execution_count": 9,
     "metadata": {},
     "output_type": "execute_result"
    }
   ],
   "source": [
    "let mut name = String::from(\"Comprehensive Rust 🦀\");\n",
    "while let Some(c) = name.pop() {\n",
    "    println!(\"character: {c}\");\n",
    "}"
   ]
  },
  {
   "cell_type": "markdown",
   "metadata": {},
   "source": [
    "# Methods and Traits"
   ]
  },
  {
   "cell_type": "markdown",
   "metadata": {},
   "source": [
    "## Methods"
   ]
  },
  {
   "cell_type": "code",
   "execution_count": 10,
   "metadata": {
    "vscode": {
     "languageId": "rust"
    }
   },
   "outputs": [],
   "source": [
    "#[derive(Debug)]\n",
    "struct Race {\n",
    "    name: String,\n",
    "    laps: Vec<i32>,\n",
    "}\n",
    "\n",
    "impl Race {\n",
    "    // No receiver, a static method\n",
    "    fn new(name: &str) -> Self {\n",
    "        Self { name: String::from(name), laps: Vec::new() }\n",
    "    }\n",
    "\n",
    "    // Exclusive borrowed read-write access to self\n",
    "    fn add_lap(&mut self, lap: i32) {\n",
    "        self.laps.push(lap);\n",
    "    }\n",
    "\n",
    "    // Shared and read-only borrowed access to self\n",
    "    fn print_laps(&self, index: bool) {\n",
    "        println!(\"Recorded {} laps for {}:\", self.laps.len(), self.name);\n",
    "        if index {\n",
    "            for (idx, lap) in self.laps.iter().enumerate() {\n",
    "                println!(\"Lap {idx}: {lap} sec\");\n",
    "            }\n",
    "        } else {\n",
    "            for lap in self.laps.iter() {\n",
    "                println!(\"{lap} sec\");\n",
    "            }\n",
    "        }\n",
    "    }\n",
    "\n",
    "    // Exclusive ownership of self\n",
    "    fn finish(self) {\n",
    "        let total: i32 = self.laps.iter().sum();\n",
    "        println!(\"Race {} is finished, total lap time: {}\", self.name, total);\n",
    "    }\n",
    "}"
   ]
  },
  {
   "cell_type": "code",
   "execution_count": 11,
   "metadata": {
    "vscode": {
     "languageId": "rust"
    }
   },
   "outputs": [
    {
     "name": "stdout",
     "output_type": "stream",
     "text": [
      "Recorded 2 laps for Monaco Grand Prix:\n",
      "70 sec\n",
      "68 sec\n",
      "Recorded 3 laps for Monaco Grand Prix:\n",
      "Lap 0: 70 sec\n",
      "Lap 1: 68 sec\n",
      "Lap 2: 71 sec\n",
      "Race Monaco Grand Prix is finished, total lap time: 209\n"
     ]
    }
   ],
   "source": [
    "let mut race = Race::new(\"Monaco Grand Prix\");\n",
    "race.add_lap(70);\n",
    "race.add_lap(68);\n",
    "race.print_laps(false);\n",
    "race.add_lap(71);\n",
    "race.print_laps(true);\n",
    "race.finish();"
   ]
  },
  {
   "cell_type": "markdown",
   "metadata": {},
   "source": [
    "## Traits"
   ]
  },
  {
   "cell_type": "code",
   "execution_count": 2,
   "metadata": {
    "vscode": {
     "languageId": "rust"
    }
   },
   "outputs": [],
   "source": [
    "struct Dog {\n",
    "    name: String,\n",
    "    age: i8,\n",
    "}\n",
    "struct Cat {\n",
    "    lives: i8,\n",
    "}\n",
    "\n",
    "trait Pet {\n",
    "    fn talk(&self) -> String;\n",
    "\n",
    "    fn greet(&self) {\n",
    "        println!(\"Oh you're a cutie! What's your name? {}\", self.talk());\n",
    "    }\n",
    "}\n",
    "\n",
    "impl Pet for Dog {\n",
    "    fn talk(&self) -> String {\n",
    "        format!(\"Woof, my name is {}!\", self.name)\n",
    "    }\n",
    "}\n",
    "\n",
    "impl Pet for Cat {\n",
    "    fn talk(&self) -> String {\n",
    "        String::from(\"Miau!\")\n",
    "    }\n",
    "}"
   ]
  },
  {
   "cell_type": "code",
   "execution_count": 3,
   "metadata": {
    "vscode": {
     "languageId": "rust"
    }
   },
   "outputs": [
    {
     "name": "stdout",
     "output_type": "stream",
     "text": [
      "Oh you're a cutie! What's your name? Miau!\n",
      "Oh you're a cutie! What's your name? Woof, my name is Fido!\n"
     ]
    }
   ],
   "source": [
    "let captain_floof = Cat { lives: 9 };\n",
    "let fido = Dog { name: String::from(\"Fido\"), age: 5 };\n",
    "\n",
    "captain_floof.greet();\n",
    "fido.greet();"
   ]
  },
  {
   "cell_type": "markdown",
   "metadata": {},
   "source": [
    "## Deriving"
   ]
  },
  {
   "cell_type": "code",
   "execution_count": 4,
   "metadata": {
    "vscode": {
     "languageId": "rust"
    }
   },
   "outputs": [],
   "source": [
    "#[derive(Debug, Clone, Default)]\n",
    "struct Player {\n",
    "    name: String,\n",
    "    strength: u8,\n",
    "    hit_points: u8,\n",
    "}"
   ]
  },
  {
   "cell_type": "code",
   "execution_count": 5,
   "metadata": {
    "vscode": {
     "languageId": "rust"
    }
   },
   "outputs": [
    {
     "name": "stdout",
     "output_type": "stream",
     "text": [
      "Player { name: \"\", strength: 0, hit_points: 0 } vs. Player { name: \"EldurScrollz\", strength: 0, hit_points: 0 }\n"
     ]
    }
   ],
   "source": [
    "let p1 = Player::default(); // Default trait adds `default` constructor.\n",
    "let mut p2 = p1.clone(); // Clone trait adds `clone` method.\n",
    "p2.name = String::from(\"EldurScrollz\");\n",
    "// Debug trait adds support for printing with `{:?}`.\n",
    "println!(\"{:?} vs. {:?}\", p1, p2);"
   ]
  },
  {
   "cell_type": "markdown",
   "metadata": {},
   "source": [
    "## Trait Objects"
   ]
  },
  {
   "cell_type": "code",
   "execution_count": 6,
   "metadata": {
    "vscode": {
     "languageId": "rust"
    }
   },
   "outputs": [],
   "source": [
    "struct Dog {\n",
    "    name: String,\n",
    "    age: i8,\n",
    "}\n",
    "struct Cat {\n",
    "    lives: i8,\n",
    "}\n",
    "\n",
    "trait Pet {\n",
    "    fn talk(&self) -> String;\n",
    "}\n",
    "\n",
    "impl Pet for Dog {\n",
    "    fn talk(&self) -> String {\n",
    "        format!(\"Woof, my name is {}!\", self.name)\n",
    "    }\n",
    "}\n",
    "\n",
    "impl Pet for Cat {\n",
    "    fn talk(&self) -> String {\n",
    "        String::from(\"Miau!\")\n",
    "    }\n",
    "}"
   ]
  },
  {
   "cell_type": "code",
   "execution_count": 12,
   "metadata": {
    "vscode": {
     "languageId": "rust"
    }
   },
   "outputs": [
    {
     "name": "stdout",
     "output_type": "stream",
     "text": [
      "Hello, who are you? Miau!\n",
      "Hello, who are you? Woof, my name is Fido!\n"
     ]
    },
    {
     "data": {
      "text/plain": [
       "()"
      ]
     },
     "execution_count": 12,
     "metadata": {},
     "output_type": "execute_result"
    }
   ],
   "source": [
    "let pets: Vec<Box<dyn Pet>> = vec![\n",
    "    Box::new(Cat { lives: 9 }),\n",
    "    Box::new(Dog { name: String::from(\"Fido\"), age: 5 }),\n",
    "];\n",
    "for pet in pets {\n",
    "    println!(\"Hello, who are you? {}\", pet.talk());\n",
    "}"
   ]
  },
  {
   "cell_type": "code",
   "execution_count": 13,
   "metadata": {
    "vscode": {
     "languageId": "rust"
    }
   },
   "outputs": [
    {
     "name": "stdout",
     "output_type": "stream",
     "text": [
      "32 1\n",
      "8 8\n",
      "16\n",
      "16\n"
     ]
    }
   ],
   "source": [
    "println!(\"{} {}\", std::mem::size_of::<Dog>(), std::mem::size_of::<Cat>());\n",
    "println!(\"{} {}\", std::mem::size_of::<&Dog>(), std::mem::size_of::<&Cat>());\n",
    "println!(\"{}\", std::mem::size_of::<&dyn Pet>());\n",
    "println!(\"{}\", std::mem::size_of::<Box<dyn Pet>>());"
   ]
  },
  {
   "cell_type": "markdown",
   "metadata": {},
   "source": [
    "# Generic"
   ]
  },
  {
   "cell_type": "markdown",
   "metadata": {},
   "source": [
    "## Generic Functions"
   ]
  },
  {
   "cell_type": "code",
   "execution_count": 40,
   "metadata": {
    "vscode": {
     "languageId": "rust"
    }
   },
   "outputs": [
    {
     "name": "stdout",
     "output_type": "stream",
     "text": [
      "picked a number: 333\n",
      "picked a tuple: (\"dog\", 1)\n"
     ]
    }
   ],
   "source": [
    "/// Pick `even` or `odd` depending on the value of `n`.\n",
    "fn pick<T>(n: i32, even: T, odd: T) -> T {\n",
    "    if n % 2 == 0 {\n",
    "        even\n",
    "    } else {\n",
    "        odd\n",
    "    }\n",
    "}\n",
    "\n",
    "println!(\"picked a number: {:?}\", pick(97, 222, 333));\n",
    "println!(\"picked a tuple: {:?}\", pick(28, (\"dog\", 1), (\"cat\", 2)));"
   ]
  },
  {
   "cell_type": "markdown",
   "metadata": {},
   "source": [
    "## Generic Data Types"
   ]
  },
  {
   "cell_type": "code",
   "execution_count": 41,
   "metadata": {
    "vscode": {
     "languageId": "rust"
    }
   },
   "outputs": [
    {
     "name": "stdout",
     "output_type": "stream",
     "text": [
      "Point { x: 5, y: 10 } and Point { x: 1.0, y: 4.0 }\n",
      "coords(u32): (5, 10)\n",
      "coords(f64): (1.0, 0, 4.0)\n"
     ]
    }
   ],
   "source": [
    "#[derive(Debug)]\n",
    "struct Point<T> {\n",
    "    x: T,\n",
    "    y: T,\n",
    "}\n",
    "\n",
    "impl Point<u32> {\n",
    "    fn coords(&self) -> (&u32, &u32) {\n",
    "        (&self.x, &self.y)\n",
    "    }\n",
    "\n",
    "    // fn set_x(&mut self, x: T)\n",
    "}\n",
    "\n",
    "impl Point<f64> {\n",
    "    fn coords(&self) -> (&f64, u32, &f64) {\n",
    "        (&self.x, 0, &self.y)\n",
    "    }\n",
    "}\n",
    "\n",
    "// impl<T> Point<T> {\n",
    "//     fn coords(&self) -> &T {\n",
    "//         &self.x + &self.y\n",
    "//     }\n",
    "// }\n",
    "\n",
    "let integer = Point { x: 5, y: 10 };\n",
    "let float = Point { x: 1.0, y: 4.0 };\n",
    "println!(\"{integer:?} and {float:?}\");\n",
    "println!(\"coords(u32): {:?}\", integer.coords());\n",
    "println!(\"coords(f64): {:?}\", float.coords());"
   ]
  },
  {
   "cell_type": "code",
   "execution_count": null,
   "metadata": {
    "vscode": {
     "languageId": "rust"
    }
   },
   "outputs": [],
   "source": [
    "#[derive(Debug)]\n",
    "struct Point<T, U> {\n",
    "    x: T,\n",
    "    y: U,\n",
    "}\n",
    "\n",
    "impl<T, U> Point<T, U> {\n",
    "    fn coords(&self) -> (&T, &U) {\n",
    "        (&self.x, &self.y)\n",
    "    }\n",
    "}\n",
    "\n",
    "let mix = Point { x: 2, y: 3.0 };\n",
    "println!(\"{mix:?}\");\n",
    "println!(\"coords: {:?}\", mix.coords());"
   ]
  },
  {
   "cell_type": "markdown",
   "metadata": {},
   "source": [
    "## Trait Bounds"
   ]
  },
  {
   "cell_type": "code",
   "execution_count": 20,
   "metadata": {
    "vscode": {
     "languageId": "rust"
    }
   },
   "outputs": [
    {
     "name": "stdout",
     "output_type": "stream",
     "text": [
      "(\"foo\", \"foo\")\n",
      "(NotClonable { name: \"Ethan\", age: 23 }, NotClonable { name: \"Ethan\", age: 23 })\n"
     ]
    }
   ],
   "source": [
    "fn duplicate<T: Clone>(a: T) -> (T, T) {\n",
    "    (a.clone(), a.clone())\n",
    "}\n",
    "\n",
    "#[derive(Debug)]\n",
    "#[derive(Clone)]\n",
    "struct NotClonable {\n",
    "    name: String,\n",
    "    age: i32,\n",
    "}\n",
    "\n",
    "let foo = String::from(\"foo\");\n",
    "let foo_pair = duplicate(foo);\n",
    "println!(\"{foo_pair:?}\");\n",
    "\n",
    "let me = NotClonable { name: String::from(\"Ethan\"), age: 23 };\n",
    "let me_pair = duplicate(me);\n",
    "println!(\"{bar_pair:?}\");"
   ]
  },
  {
   "cell_type": "markdown",
   "metadata": {},
   "source": [
    "## impl Trait"
   ]
  },
  {
   "cell_type": "code",
   "execution_count": 23,
   "metadata": {
    "vscode": {
     "languageId": "rust"
    }
   },
   "outputs": [
    {
     "name": "stdout",
     "output_type": "stream",
     "text": [
      "42000042\n",
      "52000000\n"
     ]
    }
   ],
   "source": [
    "// Syntactic sugar for:\n",
    "//   fn add_42_millions<T: Into<i32>>(x: T) -> i32 {\n",
    "fn add_42_millions(x: impl Into<i32>) -> i32 {\n",
    "    x.into() + 42_000_000\n",
    "}\n",
    "\n",
    "fn pair_of(x: u32) -> impl std::fmt::Debug {\n",
    "    (x + 1, x - 1)\n",
    "}\n",
    "    \n",
    "\n",
    "let many = add_42_millions(42_i8);\n",
    "println!(\"{many}\");\n",
    "let many_more = add_42_millions(10_000_000);\n",
    "println!(\"{many_more}\");\n",
    "// let debuggable = pair_of(27);\n",
    "// println!(\"debuggable: {debuggable:?}\");"
   ]
  },
  {
   "cell_type": "markdown",
   "metadata": {},
   "source": [
    "# Standard Library Types"
   ]
  },
  {
   "cell_type": "markdown",
   "metadata": {},
   "source": [
    "## Option"
   ]
  },
  {
   "cell_type": "code",
   "execution_count": 32,
   "metadata": {
    "vscode": {
     "languageId": "rust"
    }
   },
   "outputs": [
    {
     "name": "stdout",
     "output_type": "stream",
     "text": [
      "find returned Some(14)\n",
      "find returned None\n"
     ]
    },
    {
     "name": "stderr",
     "output_type": "stream",
     "text": [
      "thread '<unnamed>' panicked at src/lib.rs:143:21:\n",
      "Character not found\n",
      "stack backtrace:\n",
      "   0: rust_begin_unwind\n",
      "             at /rustc/82e1608dfa6e0b5569232559e3d385fea5a93112/library/std/src/panicking.rs:645:5\n",
      "   1: core::panicking::panic_fmt\n",
      "             at /rustc/82e1608dfa6e0b5569232559e3d385fea5a93112/library/core/src/panicking.rs:72:14\n",
      "   2: core::panicking::panic_display\n",
      "             at /rustc/82e1608dfa6e0b5569232559e3d385fea5a93112/library/core/src/panicking.rs:178:5\n",
      "   3: core::panicking::panic_str\n",
      "             at /rustc/82e1608dfa6e0b5569232559e3d385fea5a93112/library/core/src/panicking.rs:152:5\n",
      "   4: core::option::expect_failed\n",
      "             at /rustc/82e1608dfa6e0b5569232559e3d385fea5a93112/library/core/src/option.rs:1985:5\n",
      "   5: <unknown>\n",
      "   6: <unknown>\n",
      "   7: evcxr::runtime::Runtime::run_loop\n",
      "   8: evcxr::runtime::runtime_hook\n",
      "   9: evcxr_jupyter::main\n",
      "note: Some details are omitted, run with `RUST_BACKTRACE=full` for a verbose backtrace.\n"
     ]
    }
   ],
   "source": [
    "let name = \"Löwe 老虎 Léopard Gepardi\";\n",
    "let mut position: Option<usize> = name.find('é');\n",
    "println!(\"find returned {position:?}\");\n",
    "assert_eq!(position.unwrap(), 14);\n",
    "position = name.find('Z');\n",
    "println!(\"find returned {position:?}\");\n",
    "assert_eq!(position.expect(\"Character not found\"), 0);"
   ]
  },
  {
   "cell_type": "markdown",
   "metadata": {},
   "source": [
    "## Result"
   ]
  },
  {
   "cell_type": "code",
   "execution_count": 16,
   "metadata": {
    "vscode": {
     "languageId": "rust"
    }
   },
   "outputs": [
    {
     "name": "stdout",
     "output_type": "stream",
     "text": [
      "Dear diary: \n",
      "When did I write something here?\n",
      "I don't remember! \n",
      "(50 bytes)\n"
     ]
    },
    {
     "data": {
      "text/plain": [
       "()"
      ]
     },
     "execution_count": 16,
     "metadata": {},
     "output_type": "execute_result"
    }
   ],
   "source": [
    "use std::fs::File;\n",
    "use std::io::Write;\n",
    "use std::io::Read;\n",
    "\n",
    "let mut file = File::create(\"diary.txt\").unwrap();\n",
    "file.write_all(b\"When did I write something here?\\nI don't remember!\").expect(\"failed to write message\");\n",
    "\n",
    "let file: Result<File, std::io::Error> = File::open(\"diary.txt\");\n",
    "match file {\n",
    "    Ok(mut file) => {\n",
    "        let mut contents = String::new();\n",
    "        if let Ok(bytes) = file.read_to_string(&mut contents) {\n",
    "            println!(\"Dear diary: \\n{contents} \\n({bytes} bytes)\");\n",
    "        } else {\n",
    "            println!(\"Could not read file content\");\n",
    "        }\n",
    "    }\n",
    "    Err(err) => {\n",
    "        println!(\"The diary could not be opened: {err}\");\n",
    "    }\n",
    "}"
   ]
  },
  {
   "cell_type": "markdown",
   "metadata": {},
   "source": [
    "## String"
   ]
  },
  {
   "cell_type": "code",
   "execution_count": 42,
   "metadata": {
    "vscode": {
     "languageId": "rust"
    }
   },
   "outputs": [
    {
     "name": "stdout",
     "output_type": "stream",
     "text": [
      "s1: Hello len = 5, capacity = 8\n",
      "s2: Hello! len = 6, capacity = 6\n",
      "s2: Hello!! len = 7, capacity = 12\n",
      "s3: 🇨🇭 len = 8, capacity = 8, number of chars = 2\n",
      "char 0: 🇨\n",
      "char 1: 🇭\n"
     ]
    },
    {
     "data": {
      "text/plain": [
       "()"
      ]
     },
     "execution_count": 42,
     "metadata": {},
     "output_type": "execute_result"
    }
   ],
   "source": [
    "let mut s1 = String::new();\n",
    "s1.push_str(\"Hello\");\n",
    "println!(\"s1: {s1} len = {}, capacity = {}\", s1.len(), s1.capacity());\n",
    "\n",
    "let mut s2 = String::with_capacity(s1.len() + 1);\n",
    "s2.push_str(&s1);\n",
    "s2.push('!');\n",
    "println!(\"s2: {s2} len = {}, capacity = {}\", s2.len(), s2.capacity());\n",
    "s2.push('!');\n",
    "println!(\"s2: {s2} len = {}, capacity = {}\", s2.len(), s2.capacity());\n",
    "\n",
    "let s3 = String::from(\"🇨🇭\");\n",
    "println!(\"s3: {s3} len = {}, capacity = {}, number of chars = {}\", s3.len(), s3.capacity(), s3.chars().count());\n",
    "for (i, c) in s3.chars().enumerate() {\n",
    "    println!(\"char {i}: {c}\");\n",
    "}"
   ]
  },
  {
   "cell_type": "markdown",
   "metadata": {},
   "source": [
    "## Vec"
   ]
  },
  {
   "cell_type": "code",
   "execution_count": 53,
   "metadata": {
    "vscode": {
     "languageId": "rust"
    }
   },
   "outputs": [
    {
     "name": "stdout",
     "output_type": "stream",
     "text": [
      "v1: [42], len = 1, capacity = 4\n",
      "v2: [42, 9999], len = 2, capacity = 2\n",
      "v2: [42, 9999, 1026], len = 3, capacity = 4\n",
      "v3: [0, 0, 2, 4]\n",
      "v3: [0, 2, 4]\n",
      "v3: [0, 2, 4, 0]\n",
      "v3: [0, 2, 4, 0]\n",
      "v4: ['H', 'e', 'l', 'l', 'o', ' ', '🦀']\n"
     ]
    }
   ],
   "source": [
    "let mut v1 = Vec::new();\n",
    "v1.push(42);\n",
    "println!(\"v1: {:?}, len = {}, capacity = {}\", v1, v1.len(), v1.capacity());\n",
    "\n",
    "let mut v2 = Vec::with_capacity(v1.len() + 1);\n",
    "v2.extend(v1.iter());\n",
    "v2.push(9999);\n",
    "println!(\"v2: {:?}, len = {}, capacity = {}\", v2, v2.len(), v2.capacity());\n",
    "v2.push(1026);\n",
    "println!(\"v2: {:?}, len = {}, capacity = {}\", v2, v2.len(), v2.capacity());\n",
    "\n",
    "// Canonical macro to initialize a vector with elements.\n",
    "let mut v3 = vec![0, 0, 1, 2, 3, 4];\n",
    "\n",
    "// Retain only the even elements.\n",
    "v3.retain(|x| x % 2 == 0);\n",
    "println!(\"v3: {v3:?}\");\n",
    "\n",
    "// Remove consecutive duplicates.\n",
    "v3.dedup();\n",
    "println!(\"v3: {v3:?}\");\n",
    "v3.push(0);\n",
    "println!(\"v3: {v3:?}\");\n",
    "v3.dedup();\n",
    "println!(\"v3: {v3:?}\");\n",
    "\n",
    "// Use vector to store UTF-8 encoded strings.\n",
    "let mut v4 = Vec::new();\n",
    "v4.extend(String::from(\"Hello 🦀\").chars());\n",
    "println!(\"v4: {v4:?}\");"
   ]
  },
  {
   "cell_type": "markdown",
   "metadata": {},
   "source": [
    "## HashMap"
   ]
  },
  {
   "cell_type": "code",
   "execution_count": 61,
   "metadata": {
    "vscode": {
     "languageId": "rust"
    }
   },
   "outputs": [
    {
     "name": "stdout",
     "output_type": "stream",
     "text": [
      "We know about 3 books, but not Les Misérables.\n",
      "Pride and Prejudice: 303 pages\n",
      "Alice's Adventure in Wonderland is unknown.\n",
      "Harry Potter has 336 pages\n",
      "page_counts:\n",
      "{\n",
      "    \"Alice's Adventure in Wonderland\": 1,\n",
      "    \"Grimms' Fairy Tales\": 751,\n",
      "    \"Pride and Prejudice\": 304,\n",
      "    \"Adventures of Huckleberry Finn\": 207,\n",
      "}\n"
     ]
    }
   ],
   "source": [
    "use std::collections::HashMap;\n",
    "\n",
    "let mut page_counts = HashMap::new();\n",
    "page_counts.insert(\"Adventures of Huckleberry Finn\".to_string(), 207);\n",
    "page_counts.insert(\"Grimms' Fairy Tales\".to_string(), 751);\n",
    "page_counts.insert(\"Pride and Prejudice\".to_string(), 303);\n",
    "\n",
    "if !page_counts.contains_key(\"Les Misérables\") {\n",
    "    println!(\n",
    "        \"We know about {} books, but not Les Misérables.\",\n",
    "        page_counts.len()\n",
    "    );\n",
    "}\n",
    "\n",
    "for book in [\"Pride and Prejudice\", \"Alice's Adventure in Wonderland\"] {\n",
    "    match page_counts.get(book) {\n",
    "        Some(count) => println!(\"{book}: {count} pages\"),\n",
    "        None => println!(\"{book} is unknown.\"),\n",
    "    }\n",
    "}\n",
    "\n",
    "// Use the .entry() method to insert a value if nothing is found.\n",
    "for book in [\"Pride and Prejudice\", \"Alice's Adventure in Wonderland\"] {\n",
    "    let page_count: &mut i32 = page_counts.entry(book.to_string()).or_insert(0);\n",
    "    *page_count += 1;\n",
    "}\n",
    "\n",
    "{\n",
    "    let pc1 = page_counts.get(\"Harry Potter and the Sorcerer's Stone\").unwrap_or(&336);\n",
    "    println!(\"Harry Potter has {} pages\", pc1);\n",
    "}\n",
    "println!(\"page_counts:\\n{page_counts:#?}\");"
   ]
  },
  {
   "cell_type": "markdown",
   "metadata": {},
   "source": [
    "# Standard Library Traits"
   ]
  },
  {
   "cell_type": "markdown",
   "metadata": {},
   "source": [
    "## Comparisons"
   ]
  },
  {
   "cell_type": "markdown",
   "metadata": {},
   "source": [
    "### PartialEq and Eq"
   ]
  },
  {
   "cell_type": "code",
   "execution_count": 73,
   "metadata": {
    "vscode": {
     "languageId": "rust"
    }
   },
   "outputs": [
    {
     "name": "stdout",
     "output_type": "stream",
     "text": [
      "Equal? true\n"
     ]
    }
   ],
   "source": [
    "struct Key {\n",
    "    id: u32,\n",
    "    metadata: Option<String>,\n",
    "}\n",
    "\n",
    "impl PartialEq for Key {\n",
    "    fn eq(&self, other: &Self) -> bool {\n",
    "        self.id == other.id\n",
    "    }\n",
    "}\n",
    "\n",
    "let key1 = Key { id: 5, metadata: None };\n",
    "let key2 = Key { metadata: Some(\"color=red\".to_string()), ..key1 };\n",
    "\n",
    "println!(\"Equal? {}\", key1 == key2);"
   ]
  },
  {
   "cell_type": "markdown",
   "metadata": {},
   "source": [
    "### PartialOrd and Ord"
   ]
  },
  {
   "cell_type": "code",
   "execution_count": 80,
   "metadata": {
    "vscode": {
     "languageId": "rust"
    }
   },
   "outputs": [
    {
     "name": "stdout",
     "output_type": "stream",
     "text": [
      "cite1 < cite2? true\n"
     ]
    }
   ],
   "source": [
    "use std::cmp::Ordering;\n",
    "#[derive(Eq, PartialEq)]\n",
    "struct Citation {\n",
    "    author: String,\n",
    "    year: u32,\n",
    "}\n",
    "\n",
    "impl PartialOrd for Citation {\n",
    "    fn partial_cmp(&self, other: &Self) -> Option<Ordering> {\n",
    "        match self.author.partial_cmp(&other.author) {\n",
    "            Some(Ordering::Equal) => self.year.partial_cmp(&other.year),\n",
    "            author_ord => author_ord,\n",
    "        }\n",
    "    }\n",
    "}\n",
    "\n",
    "// impl Ord for Citation {\n",
    "//     fn cmp(&self, other: &Self) -> Ordering {\n",
    "//         self.partial_cmp(other).unwrap()\n",
    "//     }\n",
    "// }\n",
    "\n",
    "let cite1 = Citation { author: \"Einstein\".to_string(), year: 1905 };\n",
    "let cite2 = Citation { author: \"Ethan Wang\".to_string(), year: 2023 };\n",
    "\n",
    "println!(\"cite1 < cite2? {}\", cite1 < cite2);"
   ]
  },
  {
   "cell_type": "markdown",
   "metadata": {},
   "source": [
    "## Operators"
   ]
  },
  {
   "cell_type": "code",
   "execution_count": 91,
   "metadata": {
    "vscode": {
     "languageId": "rust"
    }
   },
   "outputs": [
    {
     "name": "stdout",
     "output_type": "stream",
     "text": [
      "Point { x: 10, y: 20 } + Point { x: 100, y: 200 } = Point { x: 110, y: 220 }\n",
      "Point { x: 10, y: 20 } + (1, 2) = (11, 22)\n"
     ]
    }
   ],
   "source": [
    "#[derive(Debug, Copy, Clone)]\n",
    "struct Point {\n",
    "    x: i32,\n",
    "    y: i32,\n",
    "}\n",
    "\n",
    "impl std::ops::Add for Point {\n",
    "    type Output = Self;\n",
    "\n",
    "    fn add(self, other: Self) -> Self {\n",
    "        Self { x: self.x + other.x, y: self.y + other.y }\n",
    "    }\n",
    "}\n",
    "\n",
    "let p1 = Point { x: 10, y: 20 };\n",
    "let p2 = Point { x: 100, y: 200 };\n",
    "println!(\"{:?} + {:?} = {:?}\", p1, p2, p1 + p2);\n",
    "\n",
    "impl std::ops::Add<(i32, i32)> for Point {\n",
    "    type Output = (i32, i32);\n",
    "\n",
    "    fn add(self, other: (i32, i32)) -> Self::Output {\n",
    "        (self.x + other.0, self.y + other.1)\n",
    "    }\n",
    "}\n",
    "\n",
    "let p3 = (1, 2);\n",
    "let p4 = p1 + p3;\n",
    "println!(\"{:?} + {:?} = {:?}\", p1, p3, p4);"
   ]
  },
  {
   "cell_type": "markdown",
   "metadata": {},
   "source": [
    "## From and Into"
   ]
  },
  {
   "cell_type": "code",
   "execution_count": 12,
   "metadata": {
    "vscode": {
     "languageId": "rust"
    }
   },
   "outputs": [
    {
     "name": "stdout",
     "output_type": "stream",
     "text": [
      "hello, 127.0.0.1, 1, 123\n"
     ]
    }
   ],
   "source": [
    "// From\n",
    "let s = String::from(\"hello\");\n",
    "let addr = std::net::Ipv4Addr::from([127, 0, 0, 1]);\n",
    "let one = i16::from(true);\n",
    "let bigger = i32::from(123_i16);\n",
    "println!(\"{s}, {addr}, {one}, {bigger}\");"
   ]
  },
  {
   "cell_type": "code",
   "execution_count": 13,
   "metadata": {
    "vscode": {
     "languageId": "rust"
    }
   },
   "outputs": [
    {
     "name": "stdout",
     "output_type": "stream",
     "text": [
      "hello, 127.0.0.1, 1, 123\n"
     ]
    }
   ],
   "source": [
    "// Into\n",
    "let s: String = \"hello\".into();\n",
    "let addr: std::net::Ipv4Addr = [127, 0, 0, 1].into();\n",
    "let one: i16 = true.into();\n",
    "let bigger: i32 = 123_i16.into();\n",
    "println!(\"{s}, {addr}, {one}, {bigger}\");"
   ]
  },
  {
   "cell_type": "markdown",
   "metadata": {},
   "source": [
    "## Casting"
   ]
  },
  {
   "cell_type": "code",
   "execution_count": 4,
   "metadata": {
    "vscode": {
     "languageId": "rust"
    }
   },
   "outputs": [
    {
     "name": "stdout",
     "output_type": "stream",
     "text": [
      "as u16: 1000\n",
      "as i16: 1000\n",
      "as u8: 232\n"
     ]
    }
   ],
   "source": [
    "let value: i64 = 1000;\n",
    "println!(\"as u16: {}\", value as u16);\n",
    "println!(\"as i16: {}\", value as i16);\n",
    "println!(\"as u8: {}\", value as u8);"
   ]
  },
  {
   "cell_type": "markdown",
   "metadata": {},
   "source": [
    "## Read and Write"
   ]
  },
  {
   "cell_type": "code",
   "execution_count": 14,
   "metadata": {
    "vscode": {
     "languageId": "rust"
    }
   },
   "outputs": [
    {
     "name": "stdout",
     "output_type": "stream",
     "text": [
      "lines in slice: 3\n",
      "lines in file: 70131\n"
     ]
    }
   ],
   "source": [
    "// Read\n",
    "use std::io::{BufRead, BufReader, Read, Result};\n",
    "\n",
    "fn count_lines<R: Read>(reader: R) -> usize {\n",
    "    let buf_reader = BufReader::new(reader);\n",
    "    buf_reader.lines().count()\n",
    "}\n",
    "\n",
    "let slice: &[u8] = b\"foo\\nbar\\nbaz\\n\";\n",
    "println!(\"lines in slice: {}\", count_lines(slice));\n",
    "\n",
    "let file = std::fs::File::open(std::env::current_exe()?)?;\n",
    "println!(\"lines in file: {}\", count_lines(file));"
   ]
  },
  {
   "cell_type": "code",
   "execution_count": 17,
   "metadata": {
    "vscode": {
     "languageId": "rust"
    }
   },
   "outputs": [
    {
     "name": "stdout",
     "output_type": "stream",
     "text": [
      "Logged: [72, 101, 108, 108, 111, 10, 87, 111, 114, 108, 100, 10]\n"
     ]
    }
   ],
   "source": [
    "// Write\n",
    "use std::io::{Result, Write};\n",
    "\n",
    "fn log<W: Write>(writer: &mut W, msg: &str) -> Result<()> {\n",
    "    writer.write_all(msg.as_bytes())?;\n",
    "    writer.write_all(\"\\n\".as_bytes())\n",
    "}\n",
    "\n",
    "let mut buffer = Vec::new();\n",
    "log(&mut buffer, \"Hello\")?;\n",
    "log(&mut buffer, \"World\")?;\n",
    "println!(\"Logged: {:?}\", buffer);"
   ]
  },
  {
   "cell_type": "markdown",
   "metadata": {},
   "source": [
    "## The Default Trait"
   ]
  },
  {
   "cell_type": "code",
   "execution_count": 22,
   "metadata": {
    "vscode": {
     "languageId": "rust"
    }
   },
   "outputs": [
    {
     "name": "stdout",
     "output_type": "stream",
     "text": [
      "Default struct:\n",
      "Derived {\n",
      "    x: 0,\n",
      "    y: \"\",\n",
      "    z: Implemented(\n",
      "        \"John Smith\",\n",
      "    ),\n",
      "}\n",
      "\n",
      "Default struct (with y set):\n",
      "Derived {\n",
      "    x: 0,\n",
      "    y: \"Y is set!\",\n",
      "    z: Implemented(\n",
      "        \"John Smith\",\n",
      "    ),\n",
      "}\n",
      "\n",
      "Fill Nothing with Default:\n",
      "Derived {\n",
      "    x: 0,\n",
      "    y: \"\",\n",
      "    z: Implemented(\n",
      "        \"John Smith\",\n",
      "    ),\n",
      "}\n",
      "\n"
     ]
    }
   ],
   "source": [
    "#[derive(Debug, Default)]\n",
    "struct Derived {\n",
    "    x: u32,\n",
    "    y: String,\n",
    "    z: Implemented,\n",
    "}\n",
    "\n",
    "#[derive(Debug)]\n",
    "struct Implemented(String);\n",
    "\n",
    "impl Default for Implemented {\n",
    "    fn default() -> Self {\n",
    "        Self(\"John Smith\".into())\n",
    "    }\n",
    "}\n",
    "\n",
    "let default_struct = Derived::default();\n",
    "println!(\"Default struct:\\n{:#?}\\n\", default_struct);\n",
    "\n",
    "let almost_default_struct =\n",
    "    Derived { y: \"Y is set!\".into(), ..Derived::default() };\n",
    "println!(\"Default struct (with y set):\\n{almost_default_struct:#?}\\n\");\n",
    "\n",
    "let nothing: Option<Derived> = None;\n",
    "println!(\"Fill Nothing with Default:\\n{:#?}\\n\", nothing.unwrap_or_default());"
   ]
  },
  {
   "cell_type": "markdown",
   "metadata": {},
   "source": [
    "## Closures"
   ]
  },
  {
   "cell_type": "code",
   "execution_count": 29,
   "metadata": {
    "vscode": {
     "languageId": "rust"
    }
   },
   "outputs": [
    {
     "name": "stdout",
     "output_type": "stream",
     "text": [
      "Calling function on 10\n",
      "add_3: 13\n",
      "Calling function on 20\n",
      "add_3: 23\n",
      "Calling function on 4\n",
      "accumulate: 4\n",
      "Calling function on 5\n",
      "accumulate: 9\n",
      "Calling function on 3\n",
      "multiply_sum: 27\n"
     ]
    }
   ],
   "source": [
    "fn apply_with_log(func: impl FnOnce(i32) -> i32, input: i32) -> i32 {\n",
    "    println!(\"Calling function on {input}\");\n",
    "    func(input)\n",
    "}\n",
    "\n",
    "{\n",
    "    let add_3 = |x| x + 3;\n",
    "    println!(\"add_3: {}\", apply_with_log(add_3, 10));\n",
    "    println!(\"add_3: {}\", apply_with_log(add_3, 20));\n",
    "    \n",
    "    let mut v = Vec::new();\n",
    "    let mut accumulate = |x: i32| {\n",
    "        v.push(x);\n",
    "        v.iter().sum::<i32>()\n",
    "    };\n",
    "    println!(\"accumulate: {}\", apply_with_log(&mut accumulate, 4));\n",
    "    println!(\"accumulate: {}\", apply_with_log(&mut accumulate, 5));\n",
    "    \n",
    "    let multiply_sum = |x| x * v.into_iter().sum::<i32>();\n",
    "    println!(\"multiply_sum: {}\", apply_with_log(multiply_sum, 3));\n",
    "};"
   ]
  },
  {
   "cell_type": "code",
   "execution_count": 28,
   "metadata": {
    "vscode": {
     "languageId": "rust"
    }
   },
   "outputs": [
    {
     "name": "stdout",
     "output_type": "stream",
     "text": [
      "Hi there\n"
     ]
    }
   ],
   "source": [
    "fn make_greeter(prefix: String) -> impl Fn(&str) {\n",
    "    return move |name| println!(\"{} {}\", prefix, name);\n",
    "}\n",
    "\n",
    "{\n",
    "    let hi = make_greeter(\"Hi\".to_string());\n",
    "    hi(\"there\");\n",
    "};"
   ]
  },
  {
   "cell_type": "markdown",
   "metadata": {},
   "source": [
    "# Memory Management"
   ]
  },
  {
   "cell_type": "markdown",
   "metadata": {},
   "source": [
    "## Ownership"
   ]
  },
  {
   "cell_type": "code",
   "execution_count": 2,
   "metadata": {
    "vscode": {
     "languageId": "rust"
    }
   },
   "outputs": [
    {
     "ename": "Error",
     "evalue": "cannot find value `p` in this scope",
     "output_type": "error",
     "traceback": [
      "\u001b[31m[E0425] Error:\u001b[0m cannot find value `p` in this scope",
      "   \u001b[38;5;246m╭\u001b[0m\u001b[38;5;246m─\u001b[0m\u001b[38;5;246m[\u001b[0mcommand_2:1:1\u001b[38;5;246m]\u001b[0m",
      "   \u001b[38;5;246m│\u001b[0m",
      " \u001b[38;5;246m7 │\u001b[0m \u001b[38;5;249mp\u001b[0m\u001b[38;5;249mr\u001b[0m\u001b[38;5;249mi\u001b[0m\u001b[38;5;249mn\u001b[0m\u001b[38;5;249mt\u001b[0m\u001b[38;5;249ml\u001b[0m\u001b[38;5;249mn\u001b[0m\u001b[38;5;249m!\u001b[0m\u001b[38;5;249m(\u001b[0m\u001b[38;5;249m\"\u001b[0m\u001b[38;5;249my\u001b[0m\u001b[38;5;249m:\u001b[0m\u001b[38;5;249m \u001b[0m\u001b[38;5;249m{\u001b[0m\u001b[38;5;249m}\u001b[0m\u001b[38;5;249m\"\u001b[0m\u001b[38;5;249m,\u001b[0m\u001b[38;5;249m \u001b[0m\u001b[38;5;54mp\u001b[0m\u001b[38;5;249m.\u001b[0m\u001b[38;5;249m1\u001b[0m\u001b[38;5;249m)\u001b[0m\u001b[38;5;249m;\u001b[0m",
      " \u001b[38;5;240m  │\u001b[0m                   \u001b[38;5;54m┬\u001b[0m  ",
      " \u001b[38;5;240m  │\u001b[0m                   \u001b[38;5;54m╰\u001b[0m\u001b[38;5;54m─\u001b[0m\u001b[38;5;54m─\u001b[0m not found in this scope",
      "\u001b[38;5;246m───╯\u001b[0m"
     ]
    }
   ],
   "source": [
    "struct Point(i32, i32);\n",
    "\n",
    "{\n",
    "    let p = Point(3, 4);\n",
    "    println!(\"x: {}\", p.0);\n",
    "}\n",
    "println!(\"y: {}\", p.1);"
   ]
  },
  {
   "cell_type": "markdown",
   "metadata": {},
   "source": [
    "## Move Semantics "
   ]
  },
  {
   "cell_type": "code",
   "execution_count": 5,
   "metadata": {
    "vscode": {
     "languageId": "rust"
    }
   },
   "outputs": [
    {
     "name": "stdout",
     "output_type": "stream",
     "text": [
      "s2: Hello!\n"
     ]
    }
   ],
   "source": [
    "let s1: String = String::from(\"Hello!\");\n",
    "let s2: String = s1;\n",
    "println!(\"s2: {s2}\");\n",
    "// println!(\"s1: {s1}\");"
   ]
  },
  {
   "cell_type": "code",
   "execution_count": 16,
   "metadata": {
    "vscode": {
     "languageId": "rust"
    }
   },
   "outputs": [
    {
     "name": "stdout",
     "output_type": "stream",
     "text": [
      "Hello Alice\n",
      "Hello Alice\n",
      "Hello Alice\n",
      "Hello Alice\n"
     ]
    }
   ],
   "source": [
    "fn say_hello(name: String) {\n",
    "    println!(\"Hello {name}\")\n",
    "}\n",
    "\n",
    "fn say_hello_ref(name: &String) {\n",
    "    println!(\"Hello {name}\")\n",
    "}\n",
    "\n",
    "let name = String::from(\"Alice\");\n",
    "say_hello_ref(&name);\n",
    "say_hello_ref(&name);\n",
    "\n",
    "say_hello(name.clone());\n",
    "say_hello(name);\n",
    "// say_hello(name);"
   ]
  },
  {
   "cell_type": "markdown",
   "metadata": {},
   "source": [
    "## Clone"
   ]
  },
  {
   "cell_type": "code",
   "execution_count": 17,
   "metadata": {
    "vscode": {
     "languageId": "rust"
    }
   },
   "outputs": [],
   "source": [
    "#[derive(Default)]\n",
    "struct Backends {\n",
    "    hostnames: Vec<String>,\n",
    "    weights: Vec<f64>,\n",
    "}\n",
    "\n",
    "impl Backends {\n",
    "    fn set_hostnames(&mut self, hostnames: &Vec<String>) {\n",
    "        self.hostnames = hostnames.clone();\n",
    "        self.weights = hostnames.iter().map(|_| 1.0).collect();\n",
    "    }\n",
    "}"
   ]
  },
  {
   "cell_type": "markdown",
   "metadata": {},
   "source": [
    "## Copy Types"
   ]
  },
  {
   "cell_type": "code",
   "execution_count": 19,
   "metadata": {
    "vscode": {
     "languageId": "rust"
    }
   },
   "outputs": [
    {
     "name": "stdout",
     "output_type": "stream",
     "text": [
      "x: 42\n",
      "y: 42\n"
     ]
    }
   ],
   "source": [
    "let x = 42;\n",
    "let y = x;\n",
    "println!(\"x: {x}\"); // would not be accessible if not Copy\n",
    "println!(\"y: {y}\");"
   ]
  },
  {
   "cell_type": "code",
   "execution_count": 26,
   "metadata": {
    "vscode": {
     "languageId": "rust"
    }
   },
   "outputs": [
    {
     "name": "stdout",
     "output_type": "stream",
     "text": [
      "p1: Point(3, 4)\n",
      "p2: Point(3, 4)\n"
     ]
    }
   ],
   "source": [
    "#[derive(Copy, Clone, Debug)]\n",
    "struct Point(i32, i32);\n",
    "\n",
    "let p1 = Point(3, 4);\n",
    "let p2 = p1;\n",
    "println!(\"p1: {p1:?}\");\n",
    "println!(\"p2: {p2:?}\");"
   ]
  },
  {
   "cell_type": "markdown",
   "metadata": {},
   "source": [
    "## Drop"
   ]
  },
  {
   "cell_type": "code",
   "execution_count": 36,
   "metadata": {
    "vscode": {
     "languageId": "rust"
    }
   },
   "outputs": [
    {
     "name": "stdout",
     "output_type": "stream",
     "text": [
      "Exiting block B\n",
      "Dropping d\n",
      "Dropping c\n",
      "Exiting block A\n",
      "Dropping b\n",
      "Exiting main\n",
      "Dropping a\n"
     ]
    },
    {
     "data": {
      "text/plain": [
       "()"
      ]
     },
     "execution_count": 36,
     "metadata": {},
     "output_type": "execute_result"
    }
   ],
   "source": [
    "struct Droppable {\n",
    "    name: &'static str,\n",
    "}\n",
    "\n",
    "impl Drop for Droppable {\n",
    "    fn drop(&mut self) {\n",
    "        println!(\"Dropping {}\", self.name);\n",
    "    }\n",
    "}\n",
    "{\n",
    "    let a = Droppable { name: \"a\" };\n",
    "    {\n",
    "        let b = Droppable { name: \"b\" };\n",
    "        {\n",
    "            let c = Droppable { name: \"c\" };\n",
    "            let d = Droppable { name: \"d\" };\n",
    "            println!(\"Exiting block B\");\n",
    "        }\n",
    "        println!(\"Exiting block A\");\n",
    "    }\n",
    "    drop(a);\n",
    "    println!(\"Exiting main\");\n",
    "}"
   ]
  },
  {
   "cell_type": "markdown",
   "metadata": {},
   "source": [
    "# Smart Pointers"
   ]
  },
  {
   "cell_type": "markdown",
   "metadata": {},
   "source": [
    "## Box"
   ]
  },
  {
   "cell_type": "code",
   "execution_count": 2,
   "metadata": {
    "vscode": {
     "languageId": "rust"
    }
   },
   "outputs": [
    {
     "name": "stdout",
     "output_type": "stream",
     "text": [
      "five: 5\n"
     ]
    }
   ],
   "source": [
    "let five = Box::new(5);\n",
    "println!(\"five: {}\", *five);"
   ]
  },
  {
   "cell_type": "code",
   "execution_count": 3,
   "metadata": {
    "vscode": {
     "languageId": "rust"
    }
   },
   "outputs": [
    {
     "name": "stdout",
     "output_type": "stream",
     "text": [
      "Element(1, Element(2, Nil))\n"
     ]
    }
   ],
   "source": [
    "#[derive(Debug)]\n",
    "enum List<T> {\n",
    "    /// A non-empty list: first element and the rest of the list.\n",
    "    Element(T, Box<List<T>>),\n",
    "    /// An empty list.\n",
    "    Nil,\n",
    "}\n",
    "\n",
    "let list: List<i32> =\n",
    "    List::Element(1, Box::new(List::Element(2, Box::new(List::Nil))));\n",
    "println!(\"{list:?}\");"
   ]
  },
  {
   "cell_type": "markdown",
   "metadata": {},
   "source": [
    "## RC"
   ]
  },
  {
   "cell_type": "code",
   "execution_count": 7,
   "metadata": {
    "vscode": {
     "languageId": "rust"
    }
   },
   "outputs": [
    {
     "name": "stdout",
     "output_type": "stream",
     "text": [
      "a: 10\n",
      "a strong: 1\n",
      "b: 10\n",
      "a strong: 2\n",
      "b strong: 2\n"
     ]
    }
   ],
   "source": [
    "use std::rc::Rc;\n",
    "\n",
    "let a = Rc::new(10);\n",
    "println!(\"a: {a}\");\n",
    "println!(\"a strong: {}\", Rc::strong_count(&a));\n",
    "\n",
    "let b = Rc::clone(&a);\n",
    "\n",
    "println!(\"b: {b}\");\n",
    "println!(\"a strong: {}\", Rc::strong_count(&a));\n",
    "println!(\"b strong: {}\", Rc::strong_count(&b));"
   ]
  }
 ],
 "metadata": {
  "kernelspec": {
   "display_name": "Rust",
   "language": "rust",
   "name": "rust"
  },
  "language_info": {
   "codemirror_mode": "rust",
   "file_extension": ".rs",
   "mimetype": "text/rust",
   "name": "Rust",
   "pygment_lexer": "rust",
   "version": ""
  }
 },
 "nbformat": 4,
 "nbformat_minor": 2
}
