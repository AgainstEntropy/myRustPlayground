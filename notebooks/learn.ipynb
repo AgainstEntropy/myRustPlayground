{
 "cells": [
  {
   "cell_type": "code",
   "execution_count": 2,
   "metadata": {
    "vscode": {
     "languageId": "rust"
    }
   },
   "outputs": [
    {
     "data": {
      "text/plain": [
       "10"
      ]
     },
     "execution_count": 2,
     "metadata": {},
     "output_type": "execute_result"
    }
   ],
   "source": [
    "let a: u32 = 10;\n",
    "a"
   ]
  },
  {
   "cell_type": "markdown",
   "metadata": {},
   "source": [
    "# Pattern Matching"
   ]
  },
  {
   "cell_type": "markdown",
   "metadata": {},
   "source": [
    "## Let Control Flow"
   ]
  },
  {
   "cell_type": "markdown",
   "metadata": {},
   "source": [
    "### if-let"
   ]
  },
  {
   "cell_type": "code",
   "execution_count": 3,
   "metadata": {
    "vscode": {
     "languageId": "rust"
    }
   },
   "outputs": [],
   "source": [
    "fn sleep_for(secs: f32) {\n",
    "    let dur = if let Ok(dur_) = std::time::Duration::try_from_secs_f32(secs) {\n",
    "        dur_\n",
    "    } else {\n",
    "        std::time::Duration::from_millis(500)\n",
    "    };\n",
    "    std::thread::sleep(dur);\n",
    "    println!(\"slept for {:?}\", dur);\n",
    "}"
   ]
  },
  {
   "cell_type": "code",
   "execution_count": 4,
   "metadata": {
    "vscode": {
     "languageId": "rust"
    }
   },
   "outputs": [
    {
     "name": "stdout",
     "output_type": "stream",
     "text": [
      "slept for 500ms\n",
      "slept for 800.000012ms\n",
      "slept for 500ms\n"
     ]
    }
   ],
   "source": [
    "sleep_for(-10.0);\n",
    "sleep_for(0.8);\n",
    "sleep_for(0.5);"
   ]
  },
  {
   "cell_type": "markdown",
   "metadata": {},
   "source": [
    "### let-else"
   ]
  },
  {
   "cell_type": "code",
   "execution_count": 5,
   "metadata": {
    "vscode": {
     "languageId": "rust"
    }
   },
   "outputs": [],
   "source": [
    "#[derive(Debug)]\n",
    "enum Result {\n",
    "    Ok(u32),\n",
    "    Err(String),\n",
    "}\n",
    "\n",
    "fn hex_or_die_trying(maybe_string: Option<String>) -> Result {\n",
    "    let s = if let Some(s) = maybe_string {\n",
    "        s\n",
    "    } else {\n",
    "        return Result::Err(String::from(\"got None\"));\n",
    "    };\n",
    "\n",
    "    let first_byte_char = if let Some(first_byte_char) = s.chars().next() {\n",
    "        first_byte_char\n",
    "    } else {\n",
    "        return Result::Err(String::from(\"got empty string\"));\n",
    "    };\n",
    "\n",
    "    if let Some(digit) = first_byte_char.to_digit(16) {\n",
    "        Result::Ok(digit)\n",
    "    } else {\n",
    "        Result::Err(String::from(\"not a hex digit\"))\n",
    "    }\n",
    "}"
   ]
  },
  {
   "cell_type": "code",
   "execution_count": 6,
   "metadata": {
    "vscode": {
     "languageId": "rust"
    }
   },
   "outputs": [
    {
     "name": "stdout",
     "output_type": "stream",
     "text": [
      "result: Ok(15)\n",
      "result: Ok(10)\n",
      "result: Err(\"got empty string\")\n",
      "result: Err(\"got None\")\n"
     ]
    }
   ],
   "source": [
    "println!(\"result: {:?}\", hex_or_die_trying(Some(String::from(\"foo\"))));\n",
    "println!(\"result: {:?}\", hex_or_die_trying(Some(String::from(\"Aoo\"))));\n",
    "println!(\"result: {:?}\", hex_or_die_trying(Some(String::from(\"\"))));\n",
    "println!(\"result: {:?}\", hex_or_die_trying(None));"
   ]
  },
  {
   "cell_type": "markdown",
   "metadata": {},
   "source": [
    "#### neat version"
   ]
  },
  {
   "cell_type": "code",
   "execution_count": 7,
   "metadata": {
    "vscode": {
     "languageId": "rust"
    }
   },
   "outputs": [],
   "source": [
    "fn hex_or_die_trying_flatten(maybe_string: Option<String>) -> Result {\n",
    "    let Some(s) = maybe_string else {\n",
    "        return Result::Err(String::from(\"got None\"));\n",
    "    };\n",
    "\n",
    "    let Some(first_byte_char) = s.chars().next() else {\n",
    "        return Result::Err(String::from(\"got empty string\"));\n",
    "    };\n",
    "\n",
    "    let Some(digit) = first_byte_char.to_digit(16) else {\n",
    "        return Result::Err(String::from(\"not a hex digit\"));\n",
    "    };\n",
    "\n",
    "    Result::Ok(digit)\n",
    "}"
   ]
  },
  {
   "cell_type": "code",
   "execution_count": 8,
   "metadata": {
    "vscode": {
     "languageId": "rust"
    }
   },
   "outputs": [
    {
     "name": "stdout",
     "output_type": "stream",
     "text": [
      "result: Ok(15)\n",
      "result: Ok(10)\n",
      "result: Err(\"got empty string\")\n",
      "result: Err(\"got None\")\n"
     ]
    }
   ],
   "source": [
    "println!(\"result: {:?}\", hex_or_die_trying(Some(String::from(\"foo\"))));\n",
    "println!(\"result: {:?}\", hex_or_die_trying(Some(String::from(\"Aoo\"))));\n",
    "println!(\"result: {:?}\", hex_or_die_trying(Some(String::from(\"\"))));\n",
    "println!(\"result: {:?}\", hex_or_die_trying(None));"
   ]
  },
  {
   "cell_type": "markdown",
   "metadata": {},
   "source": [
    "### while-let"
   ]
  },
  {
   "cell_type": "code",
   "execution_count": 9,
   "metadata": {
    "vscode": {
     "languageId": "rust"
    }
   },
   "outputs": [
    {
     "name": "stdout",
     "output_type": "stream",
     "text": [
      "character: 🦀\n",
      "character:  \n",
      "character: t\n",
      "character: s\n",
      "character: u\n",
      "character: R\n",
      "character:  \n",
      "character: e\n",
      "character: v\n",
      "character: i\n",
      "character: s\n",
      "character: n\n",
      "character: e\n",
      "character: h\n",
      "character: e\n",
      "character: r\n",
      "character: p\n",
      "character: m\n",
      "character: o\n",
      "character: C\n"
     ]
    },
    {
     "data": {
      "text/plain": [
       "()"
      ]
     },
     "execution_count": 9,
     "metadata": {},
     "output_type": "execute_result"
    }
   ],
   "source": [
    "let mut name = String::from(\"Comprehensive Rust 🦀\");\n",
    "while let Some(c) = name.pop() {\n",
    "    println!(\"character: {c}\");\n",
    "}"
   ]
  },
  {
   "cell_type": "markdown",
   "metadata": {},
   "source": [
    "# Methods and Traits"
   ]
  },
  {
   "cell_type": "markdown",
   "metadata": {},
   "source": [
    "## Methods"
   ]
  },
  {
   "cell_type": "code",
   "execution_count": 10,
   "metadata": {
    "vscode": {
     "languageId": "rust"
    }
   },
   "outputs": [],
   "source": [
    "#[derive(Debug)]\n",
    "struct Race {\n",
    "    name: String,\n",
    "    laps: Vec<i32>,\n",
    "}\n",
    "\n",
    "impl Race {\n",
    "    // No receiver, a static method\n",
    "    fn new(name: &str) -> Self {\n",
    "        Self { name: String::from(name), laps: Vec::new() }\n",
    "    }\n",
    "\n",
    "    // Exclusive borrowed read-write access to self\n",
    "    fn add_lap(&mut self, lap: i32) {\n",
    "        self.laps.push(lap);\n",
    "    }\n",
    "\n",
    "    // Shared and read-only borrowed access to self\n",
    "    fn print_laps(&self, index: bool) {\n",
    "        println!(\"Recorded {} laps for {}:\", self.laps.len(), self.name);\n",
    "        if index {\n",
    "            for (idx, lap) in self.laps.iter().enumerate() {\n",
    "                println!(\"Lap {idx}: {lap} sec\");\n",
    "            }\n",
    "        } else {\n",
    "            for lap in self.laps.iter() {\n",
    "                println!(\"{lap} sec\");\n",
    "            }\n",
    "        }\n",
    "    }\n",
    "\n",
    "    // Exclusive ownership of self\n",
    "    fn finish(self) {\n",
    "        let total: i32 = self.laps.iter().sum();\n",
    "        println!(\"Race {} is finished, total lap time: {}\", self.name, total);\n",
    "    }\n",
    "}"
   ]
  },
  {
   "cell_type": "code",
   "execution_count": 11,
   "metadata": {
    "vscode": {
     "languageId": "rust"
    }
   },
   "outputs": [
    {
     "name": "stdout",
     "output_type": "stream",
     "text": [
      "Recorded 2 laps for Monaco Grand Prix:\n",
      "70 sec\n",
      "68 sec\n",
      "Recorded 3 laps for Monaco Grand Prix:\n",
      "Lap 0: 70 sec\n",
      "Lap 1: 68 sec\n",
      "Lap 2: 71 sec\n",
      "Race Monaco Grand Prix is finished, total lap time: 209\n"
     ]
    }
   ],
   "source": [
    "let mut race = Race::new(\"Monaco Grand Prix\");\n",
    "race.add_lap(70);\n",
    "race.add_lap(68);\n",
    "race.print_laps(false);\n",
    "race.add_lap(71);\n",
    "race.print_laps(true);\n",
    "race.finish();"
   ]
  },
  {
   "cell_type": "markdown",
   "metadata": {},
   "source": [
    "## Traits"
   ]
  },
  {
   "cell_type": "code",
   "execution_count": 2,
   "metadata": {
    "vscode": {
     "languageId": "rust"
    }
   },
   "outputs": [],
   "source": [
    "struct Dog {\n",
    "    name: String,\n",
    "    age: i8,\n",
    "}\n",
    "struct Cat {\n",
    "    lives: i8,\n",
    "}\n",
    "\n",
    "trait Pet {\n",
    "    fn talk(&self) -> String;\n",
    "\n",
    "    fn greet(&self) {\n",
    "        println!(\"Oh you're a cutie! What's your name? {}\", self.talk());\n",
    "    }\n",
    "}\n",
    "\n",
    "impl Pet for Dog {\n",
    "    fn talk(&self) -> String {\n",
    "        format!(\"Woof, my name is {}!\", self.name)\n",
    "    }\n",
    "}\n",
    "\n",
    "impl Pet for Cat {\n",
    "    fn talk(&self) -> String {\n",
    "        String::from(\"Miau!\")\n",
    "    }\n",
    "}"
   ]
  },
  {
   "cell_type": "code",
   "execution_count": 3,
   "metadata": {
    "vscode": {
     "languageId": "rust"
    }
   },
   "outputs": [
    {
     "name": "stdout",
     "output_type": "stream",
     "text": [
      "Oh you're a cutie! What's your name? Miau!\n",
      "Oh you're a cutie! What's your name? Woof, my name is Fido!\n"
     ]
    }
   ],
   "source": [
    "let captain_floof = Cat { lives: 9 };\n",
    "let fido = Dog { name: String::from(\"Fido\"), age: 5 };\n",
    "\n",
    "captain_floof.greet();\n",
    "fido.greet();"
   ]
  },
  {
   "cell_type": "markdown",
   "metadata": {},
   "source": [
    "## Deriving"
   ]
  },
  {
   "cell_type": "code",
   "execution_count": 4,
   "metadata": {
    "vscode": {
     "languageId": "rust"
    }
   },
   "outputs": [],
   "source": [
    "#[derive(Debug, Clone, Default)]\n",
    "struct Player {\n",
    "    name: String,\n",
    "    strength: u8,\n",
    "    hit_points: u8,\n",
    "}"
   ]
  },
  {
   "cell_type": "code",
   "execution_count": 5,
   "metadata": {
    "vscode": {
     "languageId": "rust"
    }
   },
   "outputs": [
    {
     "name": "stdout",
     "output_type": "stream",
     "text": [
      "Player { name: \"\", strength: 0, hit_points: 0 } vs. Player { name: \"EldurScrollz\", strength: 0, hit_points: 0 }\n"
     ]
    }
   ],
   "source": [
    "let p1 = Player::default(); // Default trait adds `default` constructor.\n",
    "let mut p2 = p1.clone(); // Clone trait adds `clone` method.\n",
    "p2.name = String::from(\"EldurScrollz\");\n",
    "// Debug trait adds support for printing with `{:?}`.\n",
    "println!(\"{:?} vs. {:?}\", p1, p2);"
   ]
  },
  {
   "cell_type": "markdown",
   "metadata": {},
   "source": [
    "## Trait Objects"
   ]
  },
  {
   "cell_type": "code",
   "execution_count": 6,
   "metadata": {
    "vscode": {
     "languageId": "rust"
    }
   },
   "outputs": [],
   "source": [
    "struct Dog {\n",
    "    name: String,\n",
    "    age: i8,\n",
    "}\n",
    "struct Cat {\n",
    "    lives: i8,\n",
    "}\n",
    "\n",
    "trait Pet {\n",
    "    fn talk(&self) -> String;\n",
    "}\n",
    "\n",
    "impl Pet for Dog {\n",
    "    fn talk(&self) -> String {\n",
    "        format!(\"Woof, my name is {}!\", self.name)\n",
    "    }\n",
    "}\n",
    "\n",
    "impl Pet for Cat {\n",
    "    fn talk(&self) -> String {\n",
    "        String::from(\"Miau!\")\n",
    "    }\n",
    "}"
   ]
  },
  {
   "cell_type": "code",
   "execution_count": 12,
   "metadata": {
    "vscode": {
     "languageId": "rust"
    }
   },
   "outputs": [
    {
     "name": "stdout",
     "output_type": "stream",
     "text": [
      "Hello, who are you? Miau!\n",
      "Hello, who are you? Woof, my name is Fido!\n"
     ]
    },
    {
     "data": {
      "text/plain": [
       "()"
      ]
     },
     "execution_count": 12,
     "metadata": {},
     "output_type": "execute_result"
    }
   ],
   "source": [
    "let pets: Vec<Box<dyn Pet>> = vec![\n",
    "    Box::new(Cat { lives: 9 }),\n",
    "    Box::new(Dog { name: String::from(\"Fido\"), age: 5 }),\n",
    "];\n",
    "for pet in pets {\n",
    "    println!(\"Hello, who are you? {}\", pet.talk());\n",
    "}"
   ]
  },
  {
   "cell_type": "code",
   "execution_count": 13,
   "metadata": {
    "vscode": {
     "languageId": "rust"
    }
   },
   "outputs": [
    {
     "name": "stdout",
     "output_type": "stream",
     "text": [
      "32 1\n",
      "8 8\n",
      "16\n",
      "16\n"
     ]
    }
   ],
   "source": [
    "println!(\"{} {}\", std::mem::size_of::<Dog>(), std::mem::size_of::<Cat>());\n",
    "println!(\"{} {}\", std::mem::size_of::<&Dog>(), std::mem::size_of::<&Cat>());\n",
    "println!(\"{}\", std::mem::size_of::<&dyn Pet>());\n",
    "println!(\"{}\", std::mem::size_of::<Box<dyn Pet>>());"
   ]
  }
 ],
 "metadata": {
  "kernelspec": {
   "display_name": "Rust",
   "language": "rust",
   "name": "rust"
  },
  "language_info": {
   "codemirror_mode": "rust",
   "file_extension": ".rs",
   "mimetype": "text/rust",
   "name": "Rust",
   "pygment_lexer": "rust",
   "version": ""
  }
 },
 "nbformat": 4,
 "nbformat_minor": 2
}
